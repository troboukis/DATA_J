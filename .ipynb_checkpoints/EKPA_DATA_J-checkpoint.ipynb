{
 "cells": [
  {
   "cell_type": "markdown",
   "metadata": {},
   "source": [
    "# SCRAPING & GEOLOCATING"
   ]
  },
  {
   "cell_type": "code",
   "execution_count": 10,
   "metadata": {},
   "outputs": [],
   "source": [
    "from selenium import webdriver\n",
    "import requests\n",
    "from requests import get\n",
    "from bs4 import BeautifulSoup\n",
    "from IPython.core.display import clear_output\n",
    "import pandas as pd\n",
    "from random import randint\n",
    "from time import sleep"
   ]
  },
  {
   "cell_type": "code",
   "execution_count": 3,
   "metadata": {},
   "outputs": [],
   "source": [
    "URL='https://www.astikaakinita.gr/anazitisi-akiniton/'"
   ]
  },
  {
   "cell_type": "markdown",
   "metadata": {},
   "source": [
    "ΔΟΚΙΜΑΣΤΙΚΑ ΣΚΡΑΠΑΡΟΥΜΕ ΤΗΝ ΠΡΩΡΤΗ ΣΕΛΙΔΑ"
   ]
  },
  {
   "cell_type": "code",
   "execution_count": 5,
   "metadata": {},
   "outputs": [],
   "source": [
    "response=get(URL)\n",
    "doc=BeautifulSoup(response.text, \"html.parser\")\n",
    "conteiner=doc.find('div', attrs={'class':'realastate_search_results flex-row'})\n",
    "contents=[]\n",
    "for item in conteiner.findAll('article',attrs={'class':'realastate_item'}):\n",
    "    \n",
    "    estate={\n",
    "        'type_holding':item.h4.text,\n",
    "        'type':item.h3.text,\n",
    "        'addr':item.p.text,\n",
    "        'code':item('em',attrs={'class':'ref_code'})[0].text,\n",
    "        'sq':item('span',attrs={'class':'auction_text'})[0].text,\n",
    "        'link':item.a.get('href')\n",
    "        \n",
    "    }\n",
    "    price=item('p',attrs={'class':'price'})\n",
    "    \n",
    "#     Εάν υπάρχει τιμή, τότε να την σώσουμε στο dict\n",
    "    if len(price)>0:\n",
    "        estate={'price':price[0].em.text}\n",
    "    contents.append(estate)"
   ]
  },
  {
   "cell_type": "code",
   "execution_count": null,
   "metadata": {},
   "outputs": [],
   "source": [
    "# Εμφανίζουμε τι πήραμε\n",
    "# contents"
   ]
  },
  {
   "cell_type": "markdown",
   "metadata": {},
   "source": [
    "### ΤΡΑΒΑΜΕ ΟΛΕΣ ΤΙΣ ΣΕΛΙΔΕΣ ΤΩΝ ΑΣΤΙΚΩΝ ΑΚΙΝΗΤΩΝ"
   ]
  },
  {
   "cell_type": "code",
   "execution_count": 17,
   "metadata": {},
   "outputs": [],
   "source": [
    "PAGE_LINKS=['https://www.astikaakinita.gr/anazitisi-akiniton/?pg='+str(item) for item in range(1,42)]"
   ]
  },
  {
   "cell_type": "code",
   "execution_count": 18,
   "metadata": {},
   "outputs": [
    {
     "name": "stdout",
     "output_type": "stream",
     "text": [
      "page 41\n"
     ]
    }
   ],
   "source": [
    "contents=[]\n",
    "page_no=0\n",
    "estate_no=0\n",
    "for page in PAGE_LINKS:\n",
    "    page_no+=1\n",
    "    response=get(page)\n",
    "    doc=BeautifulSoup(response.text, \"html.parser\")\n",
    "    conteiner=doc.find('div', attrs={'class':'realastate_search_results flex-row'})\n",
    "    \n",
    "    for item in conteiner.findAll('article',attrs={'class':'realastate_item'}):\n",
    "        estate_no+=1\n",
    "        estate={\n",
    "        'type_holding':item.h4.text,\n",
    "        'type':item.h3.text,\n",
    "        'addr':item.p.text,\n",
    "        'code':item('em',attrs={'class':'ref_code'})[0].text,\n",
    "        'link':item.a.get('href')\n",
    "        }\n",
    "                \n",
    "        sq=item('span',attrs={'class':'auction_text'})\n",
    "        if len(sq)>0:\n",
    "            estate['sq']=sq[0].text\n",
    "        else:\n",
    "             estate['sq']='UNK'\n",
    "                \n",
    "        price=item('p',attrs={'class':'price'})\n",
    "        if len(price)>0:\n",
    "            estate['price']=price[0].em.text\n",
    "        \n",
    "        contents.append(estate)\n",
    "        clear_output(wait=True)\n",
    "        print('estate '+ str(estate_no))\n",
    "#         sleep(randint(1,2))\n",
    "    clear_output(wait=True)\n",
    "    print('page '+ str(page_no))"
   ]
  },
  {
   "cell_type": "code",
   "execution_count": 20,
   "metadata": {},
   "outputs": [],
   "source": [
    "# contents"
   ]
  },
  {
   "cell_type": "markdown",
   "metadata": {},
   "source": [
    "ΕΝΤΟΠΙΖΟΥΜΕ ΤΙΣ ΣΥΝΤΕΤΑΓΜΕΝΕΣ ΕΝΟΣ ΑΚΙΝΗΤΟΥ"
   ]
  },
  {
   "cell_type": "code",
   "execution_count": 21,
   "metadata": {},
   "outputs": [],
   "source": [
    "api_key=''"
   ]
  },
  {
   "cell_type": "code",
   "execution_count": 22,
   "metadata": {},
   "outputs": [
    {
     "name": "stdout",
     "output_type": "stream",
     "text": [
      "37.8833564\n",
      "23.9333037\n"
     ]
    }
   ],
   "source": [
    "geocode_url = \"https://maps.googleapis.com/maps/api/geocode/json?address={}\".format(contents[1]['addr'])+'&key='+api_key\n",
    "results = requests.get(geocode_url)\n",
    "res=results.json()\n",
    "if res['status']!='ZERO_RESULTS':\n",
    "    lat=res['results'][0]['geometry']['location']['lat']\n",
    "    lng=res['results'][0]['geometry']['location']['lng']\n",
    "    print(lat)\n",
    "    print(lng)\n"
   ]
  },
  {
   "cell_type": "markdown",
   "metadata": {},
   "source": [
    "ΕΝΤΟΠΙΖΟΥΜΕ ΤΙΣ ΣΥΝΤΕΤΑΓΜΕΝΕΣ ΤΩΝ ΥΠΟΛΟΙΠΩΝ"
   ]
  },
  {
   "cell_type": "code",
   "execution_count": 23,
   "metadata": {},
   "outputs": [
    {
     "name": "stdout",
     "output_type": "stream",
     "text": [
      "Geolocating realestate 478 of 478\n"
     ]
    }
   ],
   "source": [
    "counter = 0\n",
    "for content in contents:\n",
    "    geocode_url = \"https://maps.googleapis.com/maps/api/geocode/json?address={}\".format(content['addr'])+'&key='+api_key\n",
    "    results = requests.get(geocode_url)\n",
    "    res=results.json()\n",
    "    counter +=1\n",
    "    if res['status']!='ZERO_RESULTS':\n",
    "        lat=res['results'][0]['geometry']['location']['lat']\n",
    "        lng=res['results'][0]['geometry']['location']['lng']\n",
    "        content['lat']=lat\n",
    "        content['lng']=lng\n",
    "    else:\n",
    "        content['lat']='UNK'\n",
    "        content['lng']='UNK'\n",
    "    print(\"Geolocating realestate {} of {}\".format(counter, len(contents)))\n",
    "    clear_output(wait=True)"
   ]
  },
  {
   "cell_type": "markdown",
   "metadata": {},
   "source": [
    "ΑΠΟΘΗΚΕΥΟΥΜΕ ΤΗ ΒΑΣΗ ΔΕΔΟΜΕΝΩΝ"
   ]
  },
  {
   "cell_type": "code",
   "execution_count": 41,
   "metadata": {},
   "outputs": [],
   "source": [
    "pd.DataFrame(contents)\\\n",
    ".replace('\\r\\n','',regex=True)\\\n",
    ".replace('€','',regex=True)\\\n",
    ".replace('τ.μ.','',regex=True)\\\n",
    ".to_csv('geolocated_realestate.csv',index=False)"
   ]
  },
  {
   "cell_type": "code",
   "execution_count": null,
   "metadata": {},
   "outputs": [],
   "source": []
  },
  {
   "cell_type": "code",
   "execution_count": null,
   "metadata": {},
   "outputs": [],
   "source": []
  },
  {
   "cell_type": "code",
   "execution_count": null,
   "metadata": {},
   "outputs": [],
   "source": []
  }
 ],
 "metadata": {
  "kernelspec": {
   "display_name": "Python 3",
   "language": "python",
   "name": "python3"
  },
  "language_info": {
   "codemirror_mode": {
    "name": "ipython",
    "version": 3
   },
   "file_extension": ".py",
   "mimetype": "text/x-python",
   "name": "python",
   "nbconvert_exporter": "python",
   "pygments_lexer": "ipython3",
   "version": "3.8.2"
  }
 },
 "nbformat": 4,
 "nbformat_minor": 4
}
